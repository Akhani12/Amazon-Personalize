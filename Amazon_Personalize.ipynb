{
  "nbformat": 4,
  "nbformat_minor": 0,
  "metadata": {
    "colab": {
      "name": "Amazon_Personalize.ipynb",
      "provenance": [],
      "include_colab_link": true
    },
    "kernelspec": {
      "name": "python3",
      "display_name": "Python 3"
    }
  },
  "cells": [
    {
      "cell_type": "markdown",
      "metadata": {
        "id": "view-in-github",
        "colab_type": "text"
      },
      "source": [
        "<a href=\"https://colab.research.google.com/github/ThakkarHarsh/Amazon-Personalize/blob/main/Amazon_Personalize.ipynb\" target=\"_parent\"><img src=\"https://colab.research.google.com/assets/colab-badge.svg\" alt=\"Open In Colab\"/></a>"
      ]
    },
    {
      "cell_type": "code",
      "metadata": {
        "id": "coxVu2Oo3WpT"
      },
      "source": [
        "import boto3\n",
        "import os\n",
        "import json\n",
        "import numpy as np\n",
        "import pandas as pd\n",
        "import time\n",
        "os.environ['AWS_DEFAULT_REGION'] = 'ap-northeast-1'\n",
        "personalize = boto3.client('personalize')\n",
        "personalize_runtime = boto3.client('personalize-runtime')"
      ],
      "execution_count": null,
      "outputs": []
    },
    {
      "cell_type": "code",
      "metadata": {
        "id": "hzFy2nyw3gxM"
      },
      "source": [
        "!pip install awscli"
      ],
      "execution_count": null,
      "outputs": []
    },
    {
      "cell_type": "code",
      "metadata": {
        "id": "_7VEK4Ep3rp8"
      },
      "source": [
        "!aws configure"
      ],
      "execution_count": null,
      "outputs": []
    },
    {
      "cell_type": "code",
      "metadata": {
        "id": "BU6Q10319wZ2"
      },
      "source": [
        "bucket = \"qw2\" "
      ],
      "execution_count": null,
      "outputs": []
    },
    {
      "cell_type": "code",
      "metadata": {
        "id": "Es88XUeE95Zd"
      },
      "source": [
        "!wget -N http://files.grouplens.org/datasets/movielens/ml-100k.zip\n",
        "!unzip -o ml-100k.zip\n",
        "data = pd.read_csv('./ml-100k/u.data', sep='\\t', names=['USER_ID', 'ITEM_ID', 'RATING', 'TIMESTAMP'])\n",
        "pd.set_option('display.max_rows', 5)\n",
        "data"
      ],
      "execution_count": null,
      "outputs": []
    },
    {
      "cell_type": "code",
      "metadata": {
        "id": "31Zn6NBC-M8U"
      },
      "source": [
        "s3 = boto3.resource('s3',\n",
        "         aws_access_key_id='acces key',\n",
        "         aws_secret_access_key= 'secret key')"
      ],
      "execution_count": null,
      "outputs": []
    },
    {
      "cell_type": "code",
      "metadata": {
        "id": "otLZJsip-PqE"
      },
      "source": [
        "data = data[['USER_ID', 'ITEM_ID', 'TIMESTAMP']] # select columns that match the columns in the schema below\n",
        "data.to_csv(\"extra2.csv\", index=False)\n",
        "\n",
        "s3.Bucket(bucket).Object(\"Intercton.csv\" ).upload_file(\"extra2.csv\")"
      ],
      "execution_count": null,
      "outputs": []
    },
    {
      "cell_type": "code",
      "metadata": {
        "id": "NXYb44kX-sda"
      },
      "source": [
        "k = pd.read_csv(\"/content/Book1.csv\")\n",
        "k.to_csv(\"user.csv\", index=False)\n",
        "s3.Bucket(bucket).Object(\"user.csv\").upload_file(\"user.csv\")"
      ],
      "execution_count": null,
      "outputs": []
    },
    {
      "cell_type": "code",
      "metadata": {
        "id": "dN34QpJNBSFs"
      },
      "source": [
        "schema = {\n",
        "  \"type\": \"record\",\n",
        "  \"name\": \"Users\",\n",
        "  \"schema\":\"Users\",\n",
        "  \"namespace\": \"com.amazonaws.personalize.schema\",\n",
        " \n",
        "  \"fields\": [\n",
        "      {\n",
        "          \"name\": \"USER_ID\",\n",
        "          \"type\": \"string\"\n",
        "      },\n",
        "      {\n",
        "          \"name\": \"AGE\",\n",
        "          \"type\": \"int\"\n",
        "      },\n",
        "      {\n",
        "          \"name\": \"GENDER\",\n",
        "          \"type\": \"string\",\n",
        "          \"categorical\": True\n",
        "      }\n",
        "  ],\n",
        "  \"version\": \"1.0\"\n",
        "}\n",
        "\n",
        "create_schema_response = personalize.create_schema(\n",
        "    name = \"x0schema\",\n",
        "    schema = json.dumps(schema))\n",
        "\n",
        "schema_arn = create_schema_response['schemaArn']\n",
        "print(json.dumps(create_schema_response, indent=2))"
      ],
      "execution_count": null,
      "outputs": []
    },
    {
      "cell_type": "code",
      "metadata": {
        "id": "oA0Yxwd7Cmcc"
      },
      "source": [
        "schema={\n",
        "  \"type\": \"record\",\n",
        "  \"name\": \"Items\",\n",
        "  \"schema\":\"Items\",\n",
        "  \"namespace\": \"com.amazonaws.personalize.schema\",\n",
        "  \"fields\": [\n",
        "      {\n",
        "          \"name\": \"ITEM_ID\",\n",
        "          \"type\": \"string\"\n",
        "      },\n",
        "      {\n",
        "          \"name\": \"GENRE\",\n",
        "          \"type\": \"string\",\n",
        "          \"categorical\": True\n",
        "      }\n",
        "  ],\n",
        "  \"version\": \"1.0\"\n",
        "}\n",
        "create_schema_response = personalize.create_schema(\n",
        "    name = \"x01schema\",\n",
        "    schema = json.dumps(schema))\n",
        "\n",
        "schema_arn = create_schema_response['schemaArn']\n",
        "print(json.dumps(create_schema_response, indent=2))"
      ],
      "execution_count": null,
      "outputs": []
    },
    {
      "cell_type": "code",
      "metadata": {
        "id": "xXyaVI20Cv0y"
      },
      "source": [
        "schema = {\n",
        "    \"type\": \"record\",\n",
        "    \"name\": \"Interactions\",\n",
        "    \"schema\":\"Interactions\",\n",
        "    \"namespace\": \"com.amazonaws.personalize.schema\",\n",
        "    \"fields\": [\n",
        "        {\n",
        "            \"name\": \"USER_ID\",\n",
        "            \"type\": \"string\"\n",
        "        },\n",
        "        {\n",
        "            \"name\": \"ITEM_ID\",  \n",
        "            \"type\": \"string\"\n",
        "        },\n",
        "        {\n",
        "            \"name\": \"TIMESTAMP\",\n",
        "            \"type\": \"long\"\n",
        "        }\n",
        "    ],\n",
        "    \"version\": \"1.0\"\n",
        "}\n",
        "\n",
        "create_schema_response = personalize.create_schema(\n",
        "    name = \"x02schema\",\n",
        "    schema = json.dumps(schema))\n",
        "\n",
        "schema_arn = create_schema_response['schemaArn']\n",
        "print(json.dumps(create_schema_response, indent=2))"
      ],
      "execution_count": null,
      "outputs": []
    },
    {
      "cell_type": "code",
      "metadata": {
        "id": "xvZ5RyFETQAU"
      },
      "source": [
        "create_dataset_group_response = personalize.create_dataset_group(\n",
        "    name = \"Advance-group\"\n",
        ")\n",
        "\n",
        "dataset_group_arn = create_dataset_group_response['datasetGroupArn']\n",
        "print(json.dumps(create_dataset_group_response, indent=2))"
      ],
      "execution_count": null,
      "outputs": []
    },
    {
      "cell_type": "code",
      "metadata": {
        "id": "A66KCvKGTYNp"
      },
      "source": [
        "max_time = time.time() + 3*60*60 # 3 hours\n",
        "while time.time() < max_time:\n",
        "    describe_dataset_group_response = personalize.describe_dataset_group(\n",
        "        datasetGroupArn = dataset_group_arn\n",
        "    )\n",
        "    status = describe_dataset_group_response[\"datasetGroup\"][\"status\"]\n",
        "    print(\"DatasetGroup: {}\".format(status))\n",
        "    \n",
        "    if status == \"ACTIVE\" or status == \"CREATE FAILED\":\n",
        "        break\n",
        "        \n",
        "    time.sleep(60)"
      ],
      "execution_count": null,
      "outputs": []
    },
    {
      "cell_type": "code",
      "metadata": {
        "id": "Xxbw_ekyTfTm"
      },
      "source": [
        "dataset_type = \"INTERACTIONS\"\n",
        "create_dataset_response = personalize.create_dataset(\n",
        "    name = \"demo-dataset\",\n",
        "    datasetType = dataset_type,\n",
        "    datasetGroupArn = dataset_group_arn,\n",
        "    schemaArn =  \"arn:aws:personalize:ap-northeast-1:129962929409:schema/x02schema\"\n",
        ")\n",
        "\n",
        "dataset_arn = create_dataset_response['datasetArn']\n",
        "print(json.dumps(create_dataset_response, indent=2))"
      ],
      "execution_count": null,
      "outputs": []
    },
    {
      "cell_type": "code",
      "metadata": {
        "id": "71Cn2VEQTxra"
      },
      "source": [
        "dataset_type =\"Items\"\n",
        "create_dataset_response = personalize.create_dataset(\n",
        "    name = \"demo-item-dataset\",\n",
        "    datasetType = dataset_type,\n",
        "    datasetGroupArn = dataset_group_arn,\n",
        "    schemaArn = \"arn:aws:personalize:ap-northeast-1:129962929409:schema/x01schema\"\n",
        ")\n",
        "\n",
        "dataset_arn = create_dataset_response['datasetArn']\n",
        "print(json.dumps(create_dataset_response, indent=2))"
      ],
      "execution_count": null,
      "outputs": []
    },
    {
      "cell_type": "code",
      "metadata": {
        "id": "IEuQwydBT5jy"
      },
      "source": [
        "dataset_type =\"Users\"\n",
        "create_dataset_response = personalize.create_dataset(\n",
        "    name = \"demo-user-dataset\",\n",
        "    datasetType = dataset_type,\n",
        "    datasetGroupArn = dataset_group_arn,\n",
        "    schemaArn = \"arn:aws:personalize:ap-northeast-1:129962929409:schema/x0schema\"\n",
        ")\n",
        "\n",
        "dataset_arn = create_dataset_response['datasetArn']\n",
        "print(json.dumps(create_dataset_response, indent=2))"
      ],
      "execution_count": null,
      "outputs": []
    },
    {
      "cell_type": "code",
      "metadata": {
        "id": "vdWrrrzRUHaX"
      },
      "source": [
        "s3 = boto3.client(\"s3\")\n",
        "\n",
        "policy = {\n",
        "    \"Version\": \"2012-10-17\",\n",
        "    \"Id\": \"PersonalizeS3BucketAccessPolicy\",\n",
        "    \"Statement\": [\n",
        "        {\n",
        "            \"Sid\": \"PersonalizeS3BucketAccessPolicy\",\n",
        "            \"Effect\": \"Allow\",\n",
        "            \"Principal\": {\n",
        "                \"Service\": \"personalize.amazonaws.com\"\n",
        "            },\n",
        "            \"Action\": [\n",
        "                \"s3:GetObject\",\n",
        "                \"s3:ListBucket\"\n",
        "            ],\n",
        "            \"Resource\": [\n",
        "                \"arn:aws:s3:::{}\".format(bucket),\n",
        "                \"arn:aws:s3:::{}/*\".format(bucket)\n",
        "            ]\n",
        "        }\n",
        "    ]\n",
        "}\n",
        "\n",
        "s3.put_bucket_policy(Bucket=bucket, Policy=json.dumps(policy))"
      ],
      "execution_count": null,
      "outputs": []
    },
    {
      "cell_type": "code",
      "metadata": {
        "id": "RY-mXWR-UIrZ"
      },
      "source": [
        "create_dataset_import_job_response = personalize.create_dataset_import_job(\n",
        "    jobName = \"JOB-import-job\",\n",
        "    datasetArn = \"arn:aws:personalize:ap-northeast-1:129962929409:dataset/Advance-group/USERS\",\n",
        "    dataSource = {\n",
        "        \"dataLocation\": \"s3://{}/{}\".format(bucket, \"user.csv\")\n",
        "    },\n",
        "    roleArn = \"arn:aws:iam::129962929409:role/ExtraRole\"\n",
        ")\n",
        "\n",
        "dataset_import_job_arn = create_dataset_import_job_response['datasetImportJobArn']\n",
        "print(json.dumps(create_dataset_import_job_response, indent=2))"
      ],
      "execution_count": null,
      "outputs": []
    }
  ]
}