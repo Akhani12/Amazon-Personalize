{
  "nbformat": 4,
  "nbformat_minor": 0,
  "metadata": {
    "colab": {
      "name": "Amazon_Personalize.ipynb",
      "provenance": [],
      "collapsed_sections": [],
      "include_colab_link": true
    },
    "kernelspec": {
      "name": "python3",
      "display_name": "Python 3"
    }
  },
  "cells": [
    {
      "cell_type": "markdown",
      "metadata": {
        "id": "view-in-github",
        "colab_type": "text"
      },
      "source": [
        "<a href=\"https://colab.research.google.com/github/ThakkarHarsh/Amazon-Personalize/blob/main/Amazon_Personalize.ipynb\" target=\"_parent\"><img src=\"https://colab.research.google.com/assets/colab-badge.svg\" alt=\"Open In Colab\"/></a>"
      ]
    },
    {
      "cell_type": "code",
      "metadata": {
        "id": "sulT94icHwKM"
      },
      "source": [
        "import boto3\n",
        "import os\n",
        "import json\n",
        "import numpy as np\n",
        "import pandas as pd\n",
        "import time\n",
        "os.environ['AWS_DEFAULT_REGION'] = 'ap-southeast-1'\n",
        "personalize = boto3.client('personalize')\n",
        "personalize_runtime = boto3.client('personalize-runtime')"
      ],
      "execution_count": null,
      "outputs": []
    },
    {
      "cell_type": "code",
      "metadata": {
        "id": "jE6CWlC3IUB0",
        "colab": {
          "base_uri": "https://localhost:8080/",
          "height": 221
        },
        "outputId": "9a3a74ae-3920-4b72-c398-21a0a5ead425"
      },
      "source": [
        "!pip install awscli"
      ],
      "execution_count": null,
      "outputs": [
        {
          "output_type": "stream",
          "text": [
            "Requirement already satisfied: awscli in /usr/local/lib/python3.6/dist-packages (1.17.0)\n",
            "Requirement already satisfied: docutils<0.16,>=0.10 in /usr/local/lib/python3.6/dist-packages (from awscli) (0.15.2)\n",
            "Requirement already satisfied: s3transfer<0.4.0,>=0.3.0 in /usr/local/lib/python3.6/dist-packages (from awscli) (0.3.0)\n",
            "Requirement already satisfied: colorama<0.4.2,>=0.2.5 in /usr/local/lib/python3.6/dist-packages (from awscli) (0.4.1)\n",
            "Requirement already satisfied: rsa<=3.5.0,>=3.1.2 in /usr/local/lib/python3.6/dist-packages (from awscli) (3.4.2)\n",
            "Requirement already satisfied: PyYAML<5.3,>=3.10 in /usr/local/lib/python3.6/dist-packages (from awscli) (3.13)\n",
            "Requirement already satisfied: botocore==1.14.0 in /usr/local/lib/python3.6/dist-packages (from awscli) (1.14.0)\n",
            "Requirement already satisfied: pyasn1>=0.1.3 in /usr/local/lib/python3.6/dist-packages (from rsa<=3.5.0,>=3.1.2->awscli) (0.4.8)\n",
            "Requirement already satisfied: jmespath<1.0.0,>=0.7.1 in /usr/local/lib/python3.6/dist-packages (from botocore==1.14.0->awscli) (0.9.4)\n",
            "Requirement already satisfied: urllib3<1.26,>=1.20 in /usr/local/lib/python3.6/dist-packages (from botocore==1.14.0->awscli) (1.24.3)\n",
            "Requirement already satisfied: python-dateutil<3.0.0,>=2.1 in /usr/local/lib/python3.6/dist-packages (from botocore==1.14.0->awscli) (2.6.1)\n",
            "Requirement already satisfied: six>=1.5 in /usr/local/lib/python3.6/dist-packages (from python-dateutil<3.0.0,>=2.1->botocore==1.14.0->awscli) (1.12.0)\n"
          ],
          "name": "stdout"
        }
      ]
    },
    {
      "cell_type": "code",
      "metadata": {
        "id": "E2VvICBaIrXi"
      },
      "source": [
        "!aws configure"
      ],
      "execution_count": null,
      "outputs": []
    },
    {
      "cell_type": "code",
      "metadata": {
        "id": "eovX6MG2K1Ws"
      },
      "source": [
        "bucket = \"bfor\"       # replace with the name of your S3 bucket\n"
      ],
      "execution_count": null,
      "outputs": []
    },
    {
      "cell_type": "code",
      "metadata": {
        "id": "coZJq7fUMuxx"
      },
      "source": [
        "!wget -N http://files.grouplens.org/datasets/movielens/ml-100k.zip\n",
        "!unzip -o ml-100k.zip\n",
        "data = pd.read_csv('./ml-100k/u.data', sep='\\t', names=['USER_ID', 'ITEM_ID', 'RATING', 'TIMESTAMP'])\n",
        "pd.set_option('display.max_rows', 5)\n",
        "data"
      ],
      "execution_count": null,
      "outputs": []
    },
    {
      "cell_type": "code",
      "metadata": {
        "id": "jVBQqEnuLVSg"
      },
      "source": [
        "s3 = boto3.resource('s3',\n",
        "         aws_access_key_id='access key',\n",
        "         aws_secret_access_key= 'secret key')"
      ],
      "execution_count": null,
      "outputs": []
    },
    {
      "cell_type": "code",
      "metadata": {
        "id": "RcDfYb-tLhjY"
      },
      "source": [
        "data = data[['USER_ID', 'ITEM_ID', 'TIMESTAMP']] # select columns that match the columns in the schema below\n",
        "data.to_csv(\"extra2.csv\", index=False)\n",
        "\n",
        "s3.Bucket(bucket).Object( ).upload_file(\"extra2.csv\")"
      ],
      "execution_count": null,
      "outputs": []
    },
    {
      "cell_type": "code",
      "metadata": {
        "id": "zV6fu-8lM4IG"
      },
      "source": [
        "k = pd.read_csv(\"/content/User.csv\")\n",
        "k.to_csv(\"extra.csv\", index=False)\n",
        "s3.Bucket(bucket).Object(\"extra.csv\").upload_file(\"extra.csv\")"
      ],
      "execution_count": null,
      "outputs": []
    },
    {
      "cell_type": "markdown",
      "metadata": {
        "id": "GN1ENzwRRMf_"
      },
      "source": [
        "Item data uploaded directly into bucket in aws."
      ]
    },
    {
      "cell_type": "code",
      "metadata": {
        "id": "IyIg_2LHRSLM"
      },
      "source": [
        "schema = {\n",
        "  \"type\": \"record\",\n",
        "  \"name\": \"Users\",\n",
        "  \"schema\":\"Users\",\n",
        "  \"namespace\": \"com.amazonaws.personalize.schema\",\n",
        " \n",
        "  \"fields\": [\n",
        "      {\n",
        "          \"name\": \"USER_ID\",\n",
        "          \"type\": \"string\"\n",
        "      },\n",
        "      {\n",
        "          \"name\": \"AGE\",\n",
        "          \"type\": \"int\"\n",
        "      },\n",
        "      {\n",
        "          \"name\": \"GENDER\",\n",
        "          \"type\": \"string\",\n",
        "          \"categorical\": True\n",
        "      }\n",
        "  ],\n",
        "  \"version\": \"1.0\"\n",
        "}\n",
        "\n",
        "create_schema_response = personalize.create_schema(\n",
        "    name = \"User-schema\",\n",
        "    schema = json.dumps(schema))\n",
        "\n",
        "schema_arn = create_schema_response['schemaArn']\n",
        "print(json.dumps(create_schema_response, indent=2))"
      ],
      "execution_count": null,
      "outputs": []
    },
    {
      "cell_type": "code",
      "metadata": {
        "id": "nZqmmcO8SN_2",
        "colab": {
          "base_uri": "https://localhost:8080/",
          "height": 283
        },
        "outputId": "59643fbe-4579-4dc2-8804-fcbea134b13d"
      },
      "source": [
        "schema={\n",
        "  \"type\": \"record\",\n",
        "  \"name\": \"Items\",\n",
        "  \"schema\":\"Items\",\n",
        "  \"namespace\": \"com.amazonaws.personalize.schema\",\n",
        "  \"fields\": [\n",
        "      {\n",
        "          \"name\": \"ITEM_ID\",\n",
        "          \"type\": \"string\"\n",
        "      },\n",
        "      {\n",
        "          \"name\": \"GENRE\",\n",
        "          \"type\": \"string\",\n",
        "          \"categorical\": True\n",
        "      }\n",
        "  ],\n",
        "  \"version\": \"1.0\"\n",
        "}\n",
        "create_schema_response = personalize.create_schema(\n",
        "    name = \"Item-schema\",\n",
        "    schema = json.dumps(schema))\n",
        "\n",
        "schema_arn = create_schema_response['schemaArn']\n",
        "print(json.dumps(create_schema_response, indent=2))"
      ],
      "execution_count": null,
      "outputs": [
        {
          "output_type": "stream",
          "text": [
            "{\n",
            "  \"schemaArn\": \"arn:aws:personalize:ap-southeast-1:129962929409:schema/Item-schema\",\n",
            "  \"ResponseMetadata\": {\n",
            "    \"RequestId\": \"30f425eb-2ec7-40da-a0f7-f07c78342412\",\n",
            "    \"HTTPStatusCode\": 200,\n",
            "    \"HTTPHeaders\": {\n",
            "      \"content-type\": \"application/x-amz-json-1.1\",\n",
            "      \"date\": \"Thu, 26 Dec 2019 04:34:31 GMT\",\n",
            "      \"x-amzn-requestid\": \"30f425eb-2ec7-40da-a0f7-f07c78342412\",\n",
            "      \"content-length\": \"82\",\n",
            "      \"connection\": \"keep-alive\"\n",
            "    },\n",
            "    \"RetryAttempts\": 0\n",
            "  }\n",
            "}\n"
          ],
          "name": "stdout"
        }
      ]
    },
    {
      "cell_type": "code",
      "metadata": {
        "id": "J2-plrWNSXKJ",
        "colab": {
          "base_uri": "https://localhost:8080/",
          "height": 283
        },
        "outputId": "34625e80-7091-4d47-8346-2705ce3e8d19"
      },
      "source": [
        "schema = {\n",
        "    \"type\": \"record\",\n",
        "    \"name\": \"Interactions\",\n",
        "    \"schema\":\"Interactions\",\n",
        "    \"namespace\": \"com.amazonaws.personalize.schema\",\n",
        "    \"fields\": [\n",
        "        {\n",
        "            \"name\": \"USER_ID\",\n",
        "            \"type\": \"string\"\n",
        "        },\n",
        "        {\n",
        "            \"name\": \"ITEM_ID\",  \n",
        "            \"type\": \"string\"\n",
        "        },\n",
        "        {\n",
        "            \"name\": \"TIMESTAMP\",\n",
        "            \"type\": \"long\"\n",
        "        }\n",
        "    ],\n",
        "    \"version\": \"1.0\"\n",
        "}\n",
        "\n",
        "create_schema_response = personalize.create_schema(\n",
        "    name = \"Interaction-schema\",\n",
        "    schema = json.dumps(schema))\n",
        "\n",
        "schema_arn = create_schema_response['schemaArn']\n",
        "print(json.dumps(create_schema_response, indent=2))"
      ],
      "execution_count": null,
      "outputs": [
        {
          "output_type": "stream",
          "text": [
            "{\n",
            "  \"schemaArn\": \"arn:aws:personalize:ap-southeast-1:129962929409:schema/Interaction-schema\",\n",
            "  \"ResponseMetadata\": {\n",
            "    \"RequestId\": \"2ad86064-5e51-45da-a5d3-ecbb8c525d56\",\n",
            "    \"HTTPStatusCode\": 200,\n",
            "    \"HTTPHeaders\": {\n",
            "      \"content-type\": \"application/x-amz-json-1.1\",\n",
            "      \"date\": \"Thu, 26 Dec 2019 04:34:42 GMT\",\n",
            "      \"x-amzn-requestid\": \"2ad86064-5e51-45da-a5d3-ecbb8c525d56\",\n",
            "      \"content-length\": \"89\",\n",
            "      \"connection\": \"keep-alive\"\n",
            "    },\n",
            "    \"RetryAttempts\": 0\n",
            "  }\n",
            "}\n"
          ],
          "name": "stdout"
        }
      ]
    },
    {
      "cell_type": "code",
      "metadata": {
        "id": "EmDgoLRkUE1c",
        "colab": {
          "base_uri": "https://localhost:8080/",
          "height": 283
        },
        "outputId": "75a67cbe-4707-4eeb-e26d-c2f3aa8d50c7"
      },
      "source": [
        "create_dataset_group_response = personalize.create_dataset_group(\n",
        "    name = \"extra-group\"\n",
        ")\n",
        "\n",
        "dataset_group_arn = create_dataset_group_response['datasetGroupArn']\n",
        "print(json.dumps(create_dataset_group_response, indent=2))"
      ],
      "execution_count": null,
      "outputs": [
        {
          "output_type": "stream",
          "text": [
            "{\n",
            "  \"datasetGroupArn\": \"arn:aws:personalize:ap-southeast-1:129962929409:dataset-group/extra-group\",\n",
            "  \"ResponseMetadata\": {\n",
            "    \"RequestId\": \"5bd26a08-679b-423b-8933-9ebc789c9804\",\n",
            "    \"HTTPStatusCode\": 200,\n",
            "    \"HTTPHeaders\": {\n",
            "      \"content-type\": \"application/x-amz-json-1.1\",\n",
            "      \"date\": \"Thu, 26 Dec 2019 04:35:07 GMT\",\n",
            "      \"x-amzn-requestid\": \"5bd26a08-679b-423b-8933-9ebc789c9804\",\n",
            "      \"content-length\": \"95\",\n",
            "      \"connection\": \"keep-alive\"\n",
            "    },\n",
            "    \"RetryAttempts\": 0\n",
            "  }\n",
            "}\n"
          ],
          "name": "stdout"
        }
      ]
    },
    {
      "cell_type": "code",
      "metadata": {
        "id": "3fhkg3mOVAXW",
        "colab": {
          "base_uri": "https://localhost:8080/",
          "height": 52
        },
        "outputId": "7f87d201-2fe1-4785-e848-1a5b80e2b8d5"
      },
      "source": [
        "max_time = time.time() + 3*60*60 # 3 hours\n",
        "while time.time() < max_time:\n",
        "    describe_dataset_group_response = personalize.describe_dataset_group(\n",
        "        datasetGroupArn = dataset_group_arn\n",
        "    )\n",
        "    status = describe_dataset_group_response[\"datasetGroup\"][\"status\"]\n",
        "    print(\"DatasetGroup: {}\".format(status))\n",
        "    \n",
        "    if status == \"ACTIVE\" or status == \"CREATE FAILED\":\n",
        "        break\n",
        "        \n",
        "    time.sleep(60)"
      ],
      "execution_count": null,
      "outputs": [
        {
          "output_type": "stream",
          "text": [
            "DatasetGroup: CREATE PENDING\n",
            "DatasetGroup: ACTIVE\n"
          ],
          "name": "stdout"
        }
      ]
    },
    {
      "cell_type": "code",
      "metadata": {
        "id": "Z0OF5MqoWkfE",
        "colab": {
          "base_uri": "https://localhost:8080/",
          "height": 283
        },
        "outputId": "406736a7-fe2b-4233-8982-c098541c7fa7"
      },
      "source": [
        "dataset_type = \"INTERACTIONS\"\n",
        "create_dataset_response = personalize.create_dataset(\n",
        "    name = \"demo-dataset\",\n",
        "    datasetType = dataset_type,\n",
        "    datasetGroupArn = dataset_group_arn,\n",
        "    schemaArn =  \"arn:aws:personalize:ap-southeast-1:129962929409:schema/Interaction-schema\"\n",
        ")\n",
        "\n",
        "dataset_arn = create_dataset_response['datasetArn']\n",
        "print(json.dumps(create_dataset_response, indent=2))"
      ],
      "execution_count": null,
      "outputs": [
        {
          "output_type": "stream",
          "text": [
            "{\n",
            "  \"datasetArn\": \"arn:aws:personalize:ap-southeast-1:129962929409:dataset/extra-group/INTERACTIONS\",\n",
            "  \"ResponseMetadata\": {\n",
            "    \"RequestId\": \"762a3e72-fe9f-4866-823f-ab45f033ce3a\",\n",
            "    \"HTTPStatusCode\": 200,\n",
            "    \"HTTPHeaders\": {\n",
            "      \"content-type\": \"application/x-amz-json-1.1\",\n",
            "      \"date\": \"Thu, 26 Dec 2019 04:38:49 GMT\",\n",
            "      \"x-amzn-requestid\": \"762a3e72-fe9f-4866-823f-ab45f033ce3a\",\n",
            "      \"content-length\": \"97\",\n",
            "      \"connection\": \"keep-alive\"\n",
            "    },\n",
            "    \"RetryAttempts\": 0\n",
            "  }\n",
            "}\n"
          ],
          "name": "stdout"
        }
      ]
    },
    {
      "cell_type": "code",
      "metadata": {
        "id": "iOP6Hyy7WrFD",
        "colab": {
          "base_uri": "https://localhost:8080/",
          "height": 283
        },
        "outputId": "7f87be06-1dc1-45f1-c364-ab65193fb0b4"
      },
      "source": [
        "dataset_type =\"Items\"\n",
        "create_dataset_response = personalize.create_dataset(\n",
        "    name = \"demo-item-dataset\",\n",
        "    datasetType = dataset_type,\n",
        "    datasetGroupArn = dataset_group_arn,\n",
        "    schemaArn = \"arn:aws:personalize:ap-southeast-1:129962929409:schema/Item-schema\"\n",
        ")\n",
        "\n",
        "dataset_arn = create_dataset_response['datasetArn']\n",
        "print(json.dumps(create_dataset_response, indent=2))"
      ],
      "execution_count": null,
      "outputs": [
        {
          "output_type": "stream",
          "text": [
            "{\n",
            "  \"datasetArn\": \"arn:aws:personalize:ap-southeast-1:129962929409:dataset/extra-group/ITEMS\",\n",
            "  \"ResponseMetadata\": {\n",
            "    \"RequestId\": \"56765744-7a9e-43c3-8b7b-b4254ab50292\",\n",
            "    \"HTTPStatusCode\": 200,\n",
            "    \"HTTPHeaders\": {\n",
            "      \"content-type\": \"application/x-amz-json-1.1\",\n",
            "      \"date\": \"Thu, 26 Dec 2019 04:39:22 GMT\",\n",
            "      \"x-amzn-requestid\": \"56765744-7a9e-43c3-8b7b-b4254ab50292\",\n",
            "      \"content-length\": \"90\",\n",
            "      \"connection\": \"keep-alive\"\n",
            "    },\n",
            "    \"RetryAttempts\": 0\n",
            "  }\n",
            "}\n"
          ],
          "name": "stdout"
        }
      ]
    },
    {
      "cell_type": "code",
      "metadata": {
        "id": "OAc57G-3uhbd",
        "colab": {
          "base_uri": "https://localhost:8080/",
          "height": 283
        },
        "outputId": "32bcca5b-2ba4-47c2-e3ae-565d3e8b101e"
      },
      "source": [
        "dataset_type =\"Users\"\n",
        "create_dataset_response = personalize.create_dataset(\n",
        "    name = \"demo-user-dataset\",\n",
        "    datasetType = dataset_type,\n",
        "    datasetGroupArn = dataset_group_arn,\n",
        "    schemaArn = \"arn:aws:personalize:ap-southeast-1:129962929409:schema/User-schema\"\n",
        ")\n",
        "\n",
        "dataset_arn = create_dataset_response['datasetArn']\n",
        "print(json.dumps(create_dataset_response, indent=2))"
      ],
      "execution_count": null,
      "outputs": [
        {
          "output_type": "stream",
          "text": [
            "{\n",
            "  \"datasetArn\": \"arn:aws:personalize:ap-southeast-1:129962929409:dataset/extra-group/USERS\",\n",
            "  \"ResponseMetadata\": {\n",
            "    \"RequestId\": \"32986323-7d29-4195-9c87-8cfe2f35023a\",\n",
            "    \"HTTPStatusCode\": 200,\n",
            "    \"HTTPHeaders\": {\n",
            "      \"content-type\": \"application/x-amz-json-1.1\",\n",
            "      \"date\": \"Thu, 26 Dec 2019 04:39:49 GMT\",\n",
            "      \"x-amzn-requestid\": \"32986323-7d29-4195-9c87-8cfe2f35023a\",\n",
            "      \"content-length\": \"90\",\n",
            "      \"connection\": \"keep-alive\"\n",
            "    },\n",
            "    \"RetryAttempts\": 0\n",
            "  }\n",
            "}\n"
          ],
          "name": "stdout"
        }
      ]
    },
    {
      "cell_type": "code",
      "metadata": {
        "id": "aJI8eb7mvU75",
        "colab": {
          "base_uri": "https://localhost:8080/",
          "height": 158
        },
        "outputId": "463cd3e5-da0b-4611-b450-6569413429d7"
      },
      "source": [
        "s3 = boto3.client(\"s3\")\n",
        "\n",
        "policy = {\n",
        "    \"Version\": \"2012-10-17\",\n",
        "    \"Id\": \"PersonalizeS3BucketAccessPolicy\",\n",
        "    \"Statement\": [\n",
        "        {\n",
        "            \"Sid\": \"PersonalizeS3BucketAccessPolicy\",\n",
        "            \"Effect\": \"Allow\",\n",
        "            \"Principal\": {\n",
        "                \"Service\": \"personalize.amazonaws.com\"\n",
        "            },\n",
        "            \"Action\": [\n",
        "                \"s3:GetObject\",\n",
        "                \"s3:ListBucket\"\n",
        "            ],\n",
        "            \"Resource\": [\n",
        "                \"arn:aws:s3:::{}\".format(bucket),\n",
        "                \"arn:aws:s3:::{}/*\".format(bucket)\n",
        "            ]\n",
        "        }\n",
        "    ]\n",
        "}\n",
        "\n",
        "s3.put_bucket_policy(Bucket=bucket, Policy=json.dumps(policy))"
      ],
      "execution_count": null,
      "outputs": [
        {
          "output_type": "execute_result",
          "data": {
            "text/plain": [
              "{'ResponseMetadata': {'HTTPHeaders': {'date': 'Thu, 26 Dec 2019 04:43:44 GMT',\n",
              "   'server': 'AmazonS3',\n",
              "   'x-amz-id-2': 'U/AnQ8uRcuIjSyghXwGXamsOIKVWsVM/NTkPd3gTIxmKpfXtqHW/Mxcqsu+yx81y17BNRdWQ65g=',\n",
              "   'x-amz-request-id': '852BAA36CF24B251'},\n",
              "  'HTTPStatusCode': 204,\n",
              "  'HostId': 'U/AnQ8uRcuIjSyghXwGXamsOIKVWsVM/NTkPd3gTIxmKpfXtqHW/Mxcqsu+yx81y17BNRdWQ65g=',\n",
              "  'RequestId': '852BAA36CF24B251',\n",
              "  'RetryAttempts': 0}}"
            ]
          },
          "metadata": {
            "tags": []
          },
          "execution_count": 43
        }
      ]
    },
    {
      "cell_type": "code",
      "metadata": {
        "id": "4Ybh_zyuva-R",
        "colab": {
          "base_uri": "https://localhost:8080/",
          "height": 34
        },
        "outputId": "29e9d522-9c36-4d39-f9a3-b49402366033"
      },
      "source": [
        "iam = boto3.client(\"iam\")\n",
        "role_name =\"ExtraRole\"\n",
        "assume_role_policy_document = {\n",
        "    \"Version\": \"2012-10-17\",\n",
        "    \"Statement\": [\n",
        "        { \"Sid\": \"\",\n",
        "          \"Effect\": \"Allow\",\n",
        "          \"Principal\": {\n",
        "            \"Service\": \"personalize.amazonaws.com\"\n",
        "          },\n",
        "          \"Action\": \"sts:AssumeRole\"\n",
        "        }\n",
        "    ]\n",
        "}\n",
        "\n",
        "create_role_response = iam.create_role(\n",
        "    RoleName = role_name,\n",
        "    AssumeRolePolicyDocument = json.dumps(assume_role_policy_document)\n",
        ")\n",
        "\n",
        "# AmazonPersonalizeFullAccess provides access to any S3 bucket with a name that includes \"personalize\" or \"Personalize\" \n",
        "# if you would like to use a bucket with a different name, please consider creating and attaching a new policy\n",
        "# that provides read access to your bucket or attaching the AmazonS3ReadOnlyAccess policy to the role\n",
        "policy_arn = \"arn:aws:iam::aws:policy/service-role/AmazonPersonalizeFullAccess\"\n",
        "iam.attach_role_policy(\n",
        "    RoleName = role_name,\n",
        "    PolicyArn = policy_arn\n",
        ")\n",
        "\n",
        "time.sleep(60) # wait for a minute to allow IAM role policy attachment to propagate\n",
        "\n",
        "role_arn = create_role_response[\"Role\"][\"Arn\"]\n",
        "print(role_arn)"
      ],
      "execution_count": null,
      "outputs": [
        {
          "output_type": "stream",
          "text": [
            "arn:aws:iam::129962929409:role/ExtraRole\n"
          ],
          "name": "stdout"
        }
      ]
    },
    {
      "cell_type": "code",
      "metadata": {
        "id": "YOHFeUfo55fa",
        "colab": {
          "base_uri": "https://localhost:8080/",
          "height": 283
        },
        "outputId": "96ebca3d-eb26-429d-cbf9-82d0aaa2dab8"
      },
      "source": [
        "create_dataset_import_job_response = personalize.create_dataset_import_job(\n",
        "    jobName = \"demo-dataset2-import-job\",\n",
        "    datasetArn = \"arn:aws:personalize:ap-southeast-1:129962929409:dataset/extra-group/USERS\",\n",
        "    dataSource = {\n",
        "        \"dataLocation\": \"s3://{}/{}\".format(bucket, \"extra.csv\")\n",
        "    },\n",
        "    roleArn = role_arn\n",
        ")\n",
        "\n",
        "dataset_import_job_arn = create_dataset_import_job_response['datasetImportJobArn']\n",
        "print(json.dumps(create_dataset_import_job_response, indent=2))"
      ],
      "execution_count": null,
      "outputs": [
        {
          "output_type": "stream",
          "text": [
            "{\n",
            "  \"datasetImportJobArn\": \"arn:aws:personalize:ap-southeast-1:129962929409:dataset-import-job/demo-dataset2-import-job\",\n",
            "  \"ResponseMetadata\": {\n",
            "    \"RequestId\": \"0814c8ea-49a4-428e-9749-3945e745dd0e\",\n",
            "    \"HTTPStatusCode\": 200,\n",
            "    \"HTTPHeaders\": {\n",
            "      \"content-type\": \"application/x-amz-json-1.1\",\n",
            "      \"date\": \"Thu, 26 Dec 2019 04:50:06 GMT\",\n",
            "      \"x-amzn-requestid\": \"0814c8ea-49a4-428e-9749-3945e745dd0e\",\n",
            "      \"content-length\": \"117\",\n",
            "      \"connection\": \"keep-alive\"\n",
            "    },\n",
            "    \"RetryAttempts\": 0\n",
            "  }\n",
            "}\n"
          ],
          "name": "stdout"
        }
      ]
    },
    {
      "cell_type": "code",
      "metadata": {
        "id": "4MZ2eBTM7Odc",
        "colab": {
          "base_uri": "https://localhost:8080/",
          "height": 283
        },
        "outputId": "e150247a-53e0-4af4-dd5f-f74981cf2e50"
      },
      "source": [
        "create_dataset_import_job_response = personalize.create_dataset_import_job(\n",
        "    jobName = \"demo-dataset1-import-job\",\n",
        "    datasetArn = \"arn:aws:personalize:ap-southeast-1:129962929409:dataset/extra-group/ITEMS\",\n",
        "    dataSource = {\n",
        "        \"dataLocation\": \"s3://{}/{}\".format(bucket, \"extra1.csv\")\n",
        "    },\n",
        "    roleArn = role_arn\n",
        ")\n",
        "\n",
        "dataset_import_job_arn = create_dataset_import_job_response['datasetImportJobArn']\n",
        "print(json.dumps(create_dataset_import_job_response, indent=2))"
      ],
      "execution_count": null,
      "outputs": [
        {
          "output_type": "stream",
          "text": [
            "{\n",
            "  \"datasetImportJobArn\": \"arn:aws:personalize:ap-southeast-1:129962929409:dataset-import-job/demo-dataset1-import-job\",\n",
            "  \"ResponseMetadata\": {\n",
            "    \"RequestId\": \"51a1ba71-e8c9-4016-8c57-a5df9bbca9f9\",\n",
            "    \"HTTPStatusCode\": 200,\n",
            "    \"HTTPHeaders\": {\n",
            "      \"content-type\": \"application/x-amz-json-1.1\",\n",
            "      \"date\": \"Thu, 26 Dec 2019 04:56:57 GMT\",\n",
            "      \"x-amzn-requestid\": \"51a1ba71-e8c9-4016-8c57-a5df9bbca9f9\",\n",
            "      \"content-length\": \"117\",\n",
            "      \"connection\": \"keep-alive\"\n",
            "    },\n",
            "    \"RetryAttempts\": 0\n",
            "  }\n",
            "}\n"
          ],
          "name": "stdout"
        }
      ]
    },
    {
      "cell_type": "code",
      "metadata": {
        "id": "L9PQhZ7gka7L",
        "colab": {
          "base_uri": "https://localhost:8080/",
          "height": 283
        },
        "outputId": "811d08d0-aed0-4fe7-bcd6-29f9f8064b96"
      },
      "source": [
        "create_dataset_import_job_response = personalize.create_dataset_import_job(\n",
        "    jobName = \"demo-dataset3-import-job\",\n",
        "    datasetArn = \"arn:aws:personalize:ap-southeast-1:129962929409:dataset/extra-group/INTERACTIONS\",\n",
        "    dataSource = {\n",
        "        \"dataLocation\": \"s3://{}/{}\".format(bucket, \"extra2.csv\")\n",
        "    },\n",
        "    roleArn = role_arn\n",
        ")\n",
        "\n",
        "dataset_import_job_arn = create_dataset_import_job_response['datasetImportJobArn']\n",
        "print(json.dumps(create_dataset_import_job_response, indent=2))"
      ],
      "execution_count": null,
      "outputs": [
        {
          "output_type": "stream",
          "text": [
            "{\n",
            "  \"datasetImportJobArn\": \"arn:aws:personalize:ap-southeast-1:129962929409:dataset-import-job/demo-dataset3-import-job\",\n",
            "  \"ResponseMetadata\": {\n",
            "    \"RequestId\": \"301e06f0-047c-4719-87e2-91d4d31dd0fa\",\n",
            "    \"HTTPStatusCode\": 200,\n",
            "    \"HTTPHeaders\": {\n",
            "      \"content-type\": \"application/x-amz-json-1.1\",\n",
            "      \"date\": \"Thu, 26 Dec 2019 05:01:37 GMT\",\n",
            "      \"x-amzn-requestid\": \"301e06f0-047c-4719-87e2-91d4d31dd0fa\",\n",
            "      \"content-length\": \"117\",\n",
            "      \"connection\": \"keep-alive\"\n",
            "    },\n",
            "    \"RetryAttempts\": 0\n",
            "  }\n",
            "}\n"
          ],
          "name": "stdout"
        }
      ]
    },
    {
      "cell_type": "code",
      "metadata": {
        "id": "fJ2bLjpplrVV",
        "colab": {
          "base_uri": "https://localhost:8080/",
          "height": 123
        },
        "outputId": "a7833889-9a59-45fe-82e4-534e7c354b75"
      },
      "source": [
        "max_time = time.time() + 3*60*60 # 3 hours\n",
        "while time.time() < max_time:\n",
        "    describe_dataset_import_job_response = personalize.describe_dataset_import_job(\n",
        "        datasetImportJobArn = \"arn:aws:personalize:ap-southeast-1:129962929409:dataset-import-job/demo-dataset1-import-job\"\n",
        "    )\n",
        "    status = describe_dataset_import_job_response[\"datasetImportJob\"]['status']\n",
        "    print(\"DatasetImportJob: {}\".format(status))\n",
        "    \n",
        "    if status == \"ACTIVE\" or status == \"CREATE FAILED\":\n",
        "        break\n",
        "        \n",
        "    time.sleep(60)"
      ],
      "execution_count": null,
      "outputs": [
        {
          "output_type": "stream",
          "text": [
            "DatasetImportJob: CREATE IN_PROGRESS\n",
            "DatasetImportJob: CREATE IN_PROGRESS\n",
            "DatasetImportJob: CREATE IN_PROGRESS\n",
            "DatasetImportJob: CREATE IN_PROGRESS\n",
            "DatasetImportJob: CREATE IN_PROGRESS\n",
            "DatasetImportJob: ACTIVE\n"
          ],
          "name": "stdout"
        }
      ]
    },
    {
      "cell_type": "code",
      "metadata": {
        "id": "B-CWcl3qlsBP",
        "colab": {
          "base_uri": "https://localhost:8080/",
          "height": 34
        },
        "outputId": "a4d83468-7a9b-4574-a72c-6f3ec53f1855"
      },
      "source": [
        "max_time = time.time() + 3*60*60 # 3 hours\n",
        "while time.time() < max_time:\n",
        "    describe_dataset_import_job_response = personalize.describe_dataset_import_job(\n",
        "        datasetImportJobArn = \"arn:aws:personalize:ap-southeast-1:129962929409:dataset-import-job/demo-dataset2-import-job\"\n",
        "    )\n",
        "    status = describe_dataset_import_job_response[\"datasetImportJob\"]['status']\n",
        "    print(\"DatasetImportJob: {}\".format(status))\n",
        "    \n",
        "    if status == \"ACTIVE\" or status == \"CREATE FAILED\":\n",
        "        break\n",
        "        \n",
        "    time.sleep(60)"
      ],
      "execution_count": null,
      "outputs": [
        {
          "output_type": "stream",
          "text": [
            "DatasetImportJob: ACTIVE\n"
          ],
          "name": "stdout"
        }
      ]
    },
    {
      "cell_type": "code",
      "metadata": {
        "id": "FPKNLk9nlsjP",
        "colab": {
          "base_uri": "https://localhost:8080/",
          "height": 52
        },
        "outputId": "d4f68fe8-0edc-4cb8-dc6c-75f4f5630e02"
      },
      "source": [
        "max_time = time.time() + 3*60*60 # 3 hours\n",
        "while time.time() < max_time:\n",
        "    describe_dataset_import_job_response = personalize.describe_dataset_import_job(\n",
        "        datasetImportJobArn = \"arn:aws:personalize:ap-southeast-1:129962929409:dataset-import-job/demo-dataset3-import-job\"\n",
        "    )\n",
        "    status = describe_dataset_import_job_response[\"datasetImportJob\"]['status']\n",
        "    print(\"DatasetImportJob: {}\".format(status))\n",
        "    \n",
        "    if status == \"ACTIVE\" or status == \"CREATE FAILED\":\n",
        "        break\n",
        "        \n",
        "    time.sleep(60)"
      ],
      "execution_count": null,
      "outputs": [
        {
          "output_type": "stream",
          "text": [
            "DatasetImportJob: CREATE IN_PROGRESS\n",
            "DatasetImportJob: ACTIVE\n"
          ],
          "name": "stdout"
        }
      ]
    },
    {
      "cell_type": "code",
      "metadata": {
        "id": "XLzhNStwp_wv",
        "colab": {
          "base_uri": "https://localhost:8080/",
          "height": 692
        },
        "outputId": "3efb2a79-985c-4266-bdce-a8de384b9e7e"
      },
      "source": [
        "list_recipes_response = personalize.list_recipes()\n",
        "recipe_arn = \"arn:aws:personalize:::recipe/aws-hrnn\" # aws-hrnn selected for demo purposes\n",
        "list_recipes_response\n"
      ],
      "execution_count": null,
      "outputs": [
        {
          "output_type": "execute_result",
          "data": {
            "text/plain": [
              "{'ResponseMetadata': {'HTTPHeaders': {'connection': 'keep-alive',\n",
              "   'content-length': '1067',\n",
              "   'content-type': 'application/x-amz-json-1.1',\n",
              "   'date': 'Thu, 26 Dec 2019 05:37:34 GMT',\n",
              "   'x-amzn-requestid': '46ace8fa-8000-40a7-9a5f-c322399f7365'},\n",
              "  'HTTPStatusCode': 200,\n",
              "  'RequestId': '46ace8fa-8000-40a7-9a5f-c322399f7365',\n",
              "  'RetryAttempts': 0},\n",
              " 'recipes': [{'creationDateTime': datetime.datetime(2019, 6, 10, 0, 0, tzinfo=tzlocal()),\n",
              "   'lastUpdatedDateTime': datetime.datetime(2019, 6, 19, 22, 57, 15, 868000, tzinfo=tzlocal()),\n",
              "   'name': 'aws-hrnn',\n",
              "   'recipeArn': 'arn:aws:personalize:::recipe/aws-hrnn',\n",
              "   'status': 'ACTIVE'},\n",
              "  {'creationDateTime': datetime.datetime(2019, 6, 10, 0, 0, tzinfo=tzlocal()),\n",
              "   'lastUpdatedDateTime': datetime.datetime(2019, 6, 19, 22, 57, 15, 868000, tzinfo=tzlocal()),\n",
              "   'name': 'aws-hrnn-coldstart',\n",
              "   'recipeArn': 'arn:aws:personalize:::recipe/aws-hrnn-coldstart',\n",
              "   'status': 'ACTIVE'},\n",
              "  {'creationDateTime': datetime.datetime(2019, 6, 10, 0, 0, tzinfo=tzlocal()),\n",
              "   'lastUpdatedDateTime': datetime.datetime(2019, 6, 19, 22, 57, 15, 868000, tzinfo=tzlocal()),\n",
              "   'name': 'aws-hrnn-metadata',\n",
              "   'recipeArn': 'arn:aws:personalize:::recipe/aws-hrnn-metadata',\n",
              "   'status': 'ACTIVE'},\n",
              "  {'creationDateTime': datetime.datetime(2019, 6, 10, 0, 0, tzinfo=tzlocal()),\n",
              "   'lastUpdatedDateTime': datetime.datetime(2019, 6, 19, 22, 57, 15, 868000, tzinfo=tzlocal()),\n",
              "   'name': 'aws-personalized-ranking',\n",
              "   'recipeArn': 'arn:aws:personalize:::recipe/aws-personalized-ranking',\n",
              "   'status': 'ACTIVE'},\n",
              "  {'creationDateTime': datetime.datetime(2019, 6, 10, 0, 0, tzinfo=tzlocal()),\n",
              "   'lastUpdatedDateTime': datetime.datetime(2019, 6, 19, 22, 57, 15, 868000, tzinfo=tzlocal()),\n",
              "   'name': 'aws-popularity-count',\n",
              "   'recipeArn': 'arn:aws:personalize:::recipe/aws-popularity-count',\n",
              "   'status': 'ACTIVE'},\n",
              "  {'creationDateTime': datetime.datetime(2019, 6, 10, 0, 0, tzinfo=tzlocal()),\n",
              "   'lastUpdatedDateTime': datetime.datetime(2019, 6, 19, 22, 57, 15, 868000, tzinfo=tzlocal()),\n",
              "   'name': 'aws-sims',\n",
              "   'recipeArn': 'arn:aws:personalize:::recipe/aws-sims',\n",
              "   'status': 'ACTIVE'}]}"
            ]
          },
          "metadata": {
            "tags": []
          },
          "execution_count": 65
        }
      ]
    },
    {
      "cell_type": "code",
      "metadata": {
        "id": "-WuUwHPUtpos",
        "colab": {
          "base_uri": "https://localhost:8080/",
          "height": 283
        },
        "outputId": "16bde795-45b0-4860-ec72-6bc0be2b8ce5"
      },
      "source": [
        "create_solution_response = personalize.create_solution(\n",
        "    name = \"Demo-solution\",\n",
        "    datasetGroupArn = \"arn:aws:personalize:ap-southeast-1:129962929409:dataset-group/extra-group\",\n",
        "    recipeArn = recipe_arn\n",
        ")\n",
        "\n",
        "solution_arn = create_solution_response['solutionArn']\n",
        "print(json.dumps(create_solution_response, indent=2))"
      ],
      "execution_count": null,
      "outputs": [
        {
          "output_type": "stream",
          "text": [
            "{\n",
            "  \"solutionArn\": \"arn:aws:personalize:ap-southeast-1:129962929409:solution/Demo-solution\",\n",
            "  \"ResponseMetadata\": {\n",
            "    \"RequestId\": \"f82c46be-cd23-42c8-bde2-64158822f587\",\n",
            "    \"HTTPStatusCode\": 200,\n",
            "    \"HTTPHeaders\": {\n",
            "      \"content-type\": \"application/x-amz-json-1.1\",\n",
            "      \"date\": \"Thu, 26 Dec 2019 05:40:52 GMT\",\n",
            "      \"x-amzn-requestid\": \"f82c46be-cd23-42c8-bde2-64158822f587\",\n",
            "      \"content-length\": \"88\",\n",
            "      \"connection\": \"keep-alive\"\n",
            "    },\n",
            "    \"RetryAttempts\": 0\n",
            "  }\n",
            "}\n"
          ],
          "name": "stdout"
        }
      ]
    },
    {
      "cell_type": "code",
      "metadata": {
        "id": "BoRmt6JTuV7G",
        "colab": {
          "base_uri": "https://localhost:8080/",
          "height": 283
        },
        "outputId": "55d8092a-eb70-46c8-ab36-05e5db75546e"
      },
      "source": [
        "create_solution_version_response = personalize.create_solution_version(\n",
        "    solutionArn = solution_arn\n",
        ")\n",
        "\n",
        "solution_version_arn = create_solution_version_response['solutionVersionArn']\n",
        "print(json.dumps(create_solution_version_response, indent=2))"
      ],
      "execution_count": null,
      "outputs": [
        {
          "output_type": "stream",
          "text": [
            "{\n",
            "  \"solutionVersionArn\": \"arn:aws:personalize:ap-southeast-1:129962929409:solution/Demo-solution/0ba7e84c\",\n",
            "  \"ResponseMetadata\": {\n",
            "    \"RequestId\": \"bec7e0b1-c376-4106-8c12-4aa788e3dd3e\",\n",
            "    \"HTTPStatusCode\": 200,\n",
            "    \"HTTPHeaders\": {\n",
            "      \"content-type\": \"application/x-amz-json-1.1\",\n",
            "      \"date\": \"Thu, 26 Dec 2019 05:41:45 GMT\",\n",
            "      \"x-amzn-requestid\": \"bec7e0b1-c376-4106-8c12-4aa788e3dd3e\",\n",
            "      \"content-length\": \"104\",\n",
            "      \"connection\": \"keep-alive\"\n",
            "    },\n",
            "    \"RetryAttempts\": 0\n",
            "  }\n",
            "}\n"
          ],
          "name": "stdout"
        }
      ]
    },
    {
      "cell_type": "code",
      "metadata": {
        "id": "QY6dGYhcuk5D",
        "colab": {
          "base_uri": "https://localhost:8080/",
          "height": 692
        },
        "outputId": "bb65c054-3f4d-419d-f167-d6da2e1594a5"
      },
      "source": [
        "max_time = time.time() + 3*60*60 # 3 hours\n",
        "while time.time() < max_time:\n",
        "    describe_solution_version_response = personalize.describe_solution_version(\n",
        "        solutionVersionArn = solution_version_arn\n",
        "    )\n",
        "    status = describe_solution_version_response[\"solutionVersion\"][\"status\"]\n",
        "    print(\"SolutionVersion: {}\".format(status))\n",
        "    \n",
        "    if status == \"ACTIVE\" or status == \"CREATE FAILED\":\n",
        "        break\n",
        "        \n",
        "    time.sleep(60)"
      ],
      "execution_count": null,
      "outputs": [
        {
          "output_type": "stream",
          "text": [
            "SolutionVersion: CREATE IN_PROGRESS\n",
            "SolutionVersion: CREATE IN_PROGRESS\n",
            "SolutionVersion: CREATE IN_PROGRESS\n",
            "SolutionVersion: CREATE IN_PROGRESS\n",
            "SolutionVersion: CREATE IN_PROGRESS\n",
            "SolutionVersion: CREATE IN_PROGRESS\n",
            "SolutionVersion: CREATE IN_PROGRESS\n",
            "SolutionVersion: CREATE IN_PROGRESS\n",
            "SolutionVersion: CREATE IN_PROGRESS\n",
            "SolutionVersion: CREATE IN_PROGRESS\n",
            "SolutionVersion: CREATE IN_PROGRESS\n",
            "SolutionVersion: CREATE IN_PROGRESS\n",
            "SolutionVersion: CREATE IN_PROGRESS\n",
            "SolutionVersion: CREATE IN_PROGRESS\n",
            "SolutionVersion: CREATE IN_PROGRESS\n",
            "SolutionVersion: CREATE IN_PROGRESS\n",
            "SolutionVersion: CREATE IN_PROGRESS\n",
            "SolutionVersion: CREATE IN_PROGRESS\n",
            "SolutionVersion: CREATE IN_PROGRESS\n",
            "SolutionVersion: CREATE IN_PROGRESS\n",
            "SolutionVersion: CREATE IN_PROGRESS\n",
            "SolutionVersion: CREATE IN_PROGRESS\n",
            "SolutionVersion: CREATE IN_PROGRESS\n",
            "SolutionVersion: CREATE IN_PROGRESS\n",
            "SolutionVersion: CREATE IN_PROGRESS\n",
            "SolutionVersion: CREATE IN_PROGRESS\n",
            "SolutionVersion: CREATE IN_PROGRESS\n",
            "SolutionVersion: CREATE IN_PROGRESS\n",
            "SolutionVersion: CREATE IN_PROGRESS\n",
            "SolutionVersion: CREATE IN_PROGRESS\n",
            "SolutionVersion: CREATE IN_PROGRESS\n",
            "SolutionVersion: CREATE IN_PROGRESS\n",
            "SolutionVersion: CREATE IN_PROGRESS\n",
            "SolutionVersion: CREATE IN_PROGRESS\n",
            "SolutionVersion: CREATE IN_PROGRESS\n",
            "SolutionVersion: CREATE IN_PROGRESS\n",
            "SolutionVersion: CREATE IN_PROGRESS\n",
            "SolutionVersion: ACTIVE\n"
          ],
          "name": "stdout"
        }
      ]
    },
    {
      "cell_type": "code",
      "metadata": {
        "id": "0DiK7MNoxcFK",
        "colab": {
          "base_uri": "https://localhost:8080/",
          "height": 461
        },
        "outputId": "f189b3bc-e9a6-41c0-fb11-f33c06285500"
      },
      "source": [
        "get_solution_metrics_response = personalize.get_solution_metrics(\n",
        "    solutionVersionArn = solution_version_arn\n",
        ")\n",
        "\n",
        "print(json.dumps(get_solution_metrics_response, indent=2))"
      ],
      "execution_count": null,
      "outputs": [
        {
          "output_type": "stream",
          "text": [
            "{\n",
            "  \"solutionVersionArn\": \"arn:aws:personalize:ap-southeast-1:129962929409:solution/Demo-solution/0ba7e84c\",\n",
            "  \"metrics\": {\n",
            "    \"coverage\": 0.325,\n",
            "    \"mean_reciprocal_rank_at_25\": 0.1844,\n",
            "    \"normalized_discounted_cumulative_gain_at_10\": 0.1905,\n",
            "    \"normalized_discounted_cumulative_gain_at_25\": 0.2861,\n",
            "    \"normalized_discounted_cumulative_gain_at_5\": 0.1458,\n",
            "    \"precision_at_10\": 0.0573,\n",
            "    \"precision_at_25\": 0.0503,\n",
            "    \"precision_at_5\": 0.0539\n",
            "  },\n",
            "  \"ResponseMetadata\": {\n",
            "    \"RequestId\": \"4505cbcd-1fc5-4131-b958-3edf250eafc7\",\n",
            "    \"HTTPStatusCode\": 200,\n",
            "    \"HTTPHeaders\": {\n",
            "      \"content-type\": \"application/x-amz-json-1.1\",\n",
            "      \"date\": \"Thu, 26 Dec 2019 06:20:36 GMT\",\n",
            "      \"x-amzn-requestid\": \"4505cbcd-1fc5-4131-b958-3edf250eafc7\",\n",
            "      \"content-length\": \"401\",\n",
            "      \"connection\": \"keep-alive\"\n",
            "    },\n",
            "    \"RetryAttempts\": 0\n",
            "  }\n",
            "}\n"
          ],
          "name": "stdout"
        }
      ]
    },
    {
      "cell_type": "code",
      "metadata": {
        "id": "ZuVXKMWU3YJB",
        "colab": {
          "base_uri": "https://localhost:8080/",
          "height": 283
        },
        "outputId": "9da974aa-38c5-4b24-a3b2-41443dd3e288"
      },
      "source": [
        "create_campaign_response = personalize.create_campaign(\n",
        "    name = \"Demo-campaign\",\n",
        "    solutionVersionArn = solution_version_arn,\n",
        "    minProvisionedTPS = 1\n",
        ")\n",
        "\n",
        "campaign_arn = create_campaign_response['campaignArn']\n",
        "print(json.dumps(create_campaign_response, indent=2))"
      ],
      "execution_count": null,
      "outputs": [
        {
          "output_type": "stream",
          "text": [
            "{\n",
            "  \"campaignArn\": \"arn:aws:personalize:ap-southeast-1:129962929409:campaign/Demo-campaign\",\n",
            "  \"ResponseMetadata\": {\n",
            "    \"RequestId\": \"e11f24f7-cdce-4605-a3dc-62b145cf3cc4\",\n",
            "    \"HTTPStatusCode\": 200,\n",
            "    \"HTTPHeaders\": {\n",
            "      \"content-type\": \"application/x-amz-json-1.1\",\n",
            "      \"date\": \"Thu, 26 Dec 2019 06:21:19 GMT\",\n",
            "      \"x-amzn-requestid\": \"e11f24f7-cdce-4605-a3dc-62b145cf3cc4\",\n",
            "      \"content-length\": \"88\",\n",
            "      \"connection\": \"keep-alive\"\n",
            "    },\n",
            "    \"RetryAttempts\": 0\n",
            "  }\n",
            "}\n"
          ],
          "name": "stdout"
        }
      ]
    },
    {
      "cell_type": "code",
      "metadata": {
        "id": "o9miatwa3gl2",
        "colab": {
          "base_uri": "https://localhost:8080/",
          "height": 212
        },
        "outputId": "a08c8330-ca2c-46d1-d0fd-ab3ba91a72f3"
      },
      "source": [
        "max_time = time.time() + 3*60*60 # 3 hours\n",
        "while time.time() < max_time:\n",
        "    describe_campaign_response = personalize.describe_campaign(\n",
        "        campaignArn = campaign_arn\n",
        "    )\n",
        "    status = describe_campaign_response[\"campaign\"][\"status\"]\n",
        "    print(\"Campaign: {}\".format(status))\n",
        "    \n",
        "    if status == \"ACTIVE\" or status == \"CREATE FAILED\":\n",
        "        break\n",
        "        \n",
        "    time.sleep(60)"
      ],
      "execution_count": null,
      "outputs": [
        {
          "output_type": "stream",
          "text": [
            "Campaign: CREATE PENDING\n",
            "Campaign: CREATE IN_PROGRESS\n",
            "Campaign: CREATE IN_PROGRESS\n",
            "Campaign: CREATE IN_PROGRESS\n",
            "Campaign: CREATE IN_PROGRESS\n",
            "Campaign: CREATE IN_PROGRESS\n",
            "Campaign: CREATE IN_PROGRESS\n",
            "Campaign: CREATE IN_PROGRESS\n",
            "Campaign: CREATE IN_PROGRESS\n",
            "Campaign: CREATE IN_PROGRESS\n",
            "Campaign: ACTIVE\n"
          ],
          "name": "stdout"
        }
      ]
    },
    {
      "cell_type": "code",
      "metadata": {
        "id": "IE1f5BFF5fIV",
        "colab": {
          "base_uri": "https://localhost:8080/",
          "height": 52
        },
        "outputId": "495d89be-2eeb-44a0-9a3d-fca7fb2ac094"
      },
      "source": [
        "items = pd.read_csv('/content/extra.csv')\n",
        "items.columns = ['ITEM_ID', 'TITLE']\n",
        "\n",
        "user_id, item_id, _ = data.sample().values[0]\n",
        "item_title = items.loc[items['ITEM_ID'] == item_id].values[0][-1]\n",
        "print(\"USER: {}\".format(user_id))\n",
        "print(\"ITEM: {}\".format(item_title))"
      ],
      "execution_count": null,
      "outputs": [
        {
          "output_type": "stream",
          "text": [
            "USER: 429\n",
            "ITEM: Conversations with J.K. Rowling\n"
          ],
          "name": "stdout"
        }
      ]
    },
    {
      "cell_type": "code",
      "metadata": {
        "id": "bBHP97EC5h--",
        "colab": {
          "base_uri": "https://localhost:8080/",
          "height": 496
        },
        "outputId": "9007fd0a-96e1-46d4-9490-f0cea4f158fd"
      },
      "source": [
        "get_recommendations_response = personalize_runtime.get_recommendations(\n",
        "    campaignArn = campaign_arn,\n",
        "    userId = str(89),\n",
        "    itemId = str(item_id)\n",
        ")\n",
        "\n",
        "item_list = get_recommendations_response['itemList']\n",
        "title_list = [items.loc[items['ITEM_ID'] == np.int(item['itemId'])].values[0][-1] for item in item_list]\n",
        "\n",
        "print(\"Recommendations: {}\".format(json.dumps(title_list, indent=1)))"
      ],
      "execution_count": null,
      "outputs": [
        {
          "output_type": "stream",
          "text": [
            "Recommendations: [\n",
            " \"The Portrait of a Lady\",\n",
            " \"The Ravishing of Lol Stein\",\n",
            " \"The Death of Ivan Ilych And Other Stories\",\n",
            " \"Confesiones de un chef\",\n",
            " \"The Coming Economic Collapse: How You Can Thrive When Oil Costs $200 a Barrel\",\n",
            " \"The Portable Chaucer\",\n",
            " \"Running Dog\",\n",
            " \"Paul Kirk's Championship Barbecue Sauces: 175 Make-Your-Own Sauces  Marinades  Dry Rubs  Wet Rubs  Mops and Salsas\",\n",
            " \"The Gettysburg Address\",\n",
            " \"Orestes and Other Plays\",\n",
            " \"Anna Karenina\",\n",
            " \"Lincoln at Gettysburg: The Words That Remade America\",\n",
            " \"Bakkhai\",\n",
            " \"The Known World\",\n",
            " \"The Compleat Works of Wllm Shkspr (abridged)\",\n",
            " \"Gates of Fire: An Epic Novel of the Battle of Thermopylae\",\n",
            " \"Ruby Ann's Down Home Trailer Park BBQin' Cookbook\",\n",
            " \"A Short History of Nearly Everything\",\n",
            " \"The John McPhee Reader (John McPhee Reader  #1)\",\n",
            " \"The Oresteia\",\n",
            " \"Oresteia\",\n",
            " \"The Zahir\",\n",
            " \"Medea\",\n",
            " \"Time for the Stars (Heinlein's Juveniles  #10)\",\n",
            " \"The Bacchae of Euripides: A Communion Rite\"\n",
            "]\n"
          ],
          "name": "stdout"
        }
      ]
    },
    {
      "cell_type": "code",
      "metadata": {
        "id": "KJPMdGT_-6mb",
        "colab": {
          "base_uri": "https://localhost:8080/",
          "height": 692
        },
        "outputId": "6cfb216f-343a-41cf-e416-3876515705c3"
      },
      "source": [
        "list_recipes_response = personalize.list_recipes()\n",
        "recipe_arn = \"arn:aws:personalize:::recipe/aws-sims\" # aws-hrnn selected for demo purposes\n",
        "list_recipes_response\n"
      ],
      "execution_count": null,
      "outputs": [
        {
          "output_type": "execute_result",
          "data": {
            "text/plain": [
              "{'ResponseMetadata': {'HTTPHeaders': {'connection': 'keep-alive',\n",
              "   'content-length': '1067',\n",
              "   'content-type': 'application/x-amz-json-1.1',\n",
              "   'date': 'Thu, 26 Dec 2019 11:37:41 GMT',\n",
              "   'x-amzn-requestid': 'b6f254b8-fda8-4c95-a506-2166fe190f8c'},\n",
              "  'HTTPStatusCode': 200,\n",
              "  'RequestId': 'b6f254b8-fda8-4c95-a506-2166fe190f8c',\n",
              "  'RetryAttempts': 0},\n",
              " 'recipes': [{'creationDateTime': datetime.datetime(2019, 6, 10, 0, 0, tzinfo=tzlocal()),\n",
              "   'lastUpdatedDateTime': datetime.datetime(2019, 6, 19, 22, 57, 15, 868000, tzinfo=tzlocal()),\n",
              "   'name': 'aws-hrnn',\n",
              "   'recipeArn': 'arn:aws:personalize:::recipe/aws-hrnn',\n",
              "   'status': 'ACTIVE'},\n",
              "  {'creationDateTime': datetime.datetime(2019, 6, 10, 0, 0, tzinfo=tzlocal()),\n",
              "   'lastUpdatedDateTime': datetime.datetime(2019, 6, 19, 22, 57, 15, 868000, tzinfo=tzlocal()),\n",
              "   'name': 'aws-hrnn-coldstart',\n",
              "   'recipeArn': 'arn:aws:personalize:::recipe/aws-hrnn-coldstart',\n",
              "   'status': 'ACTIVE'},\n",
              "  {'creationDateTime': datetime.datetime(2019, 6, 10, 0, 0, tzinfo=tzlocal()),\n",
              "   'lastUpdatedDateTime': datetime.datetime(2019, 6, 19, 22, 57, 15, 868000, tzinfo=tzlocal()),\n",
              "   'name': 'aws-hrnn-metadata',\n",
              "   'recipeArn': 'arn:aws:personalize:::recipe/aws-hrnn-metadata',\n",
              "   'status': 'ACTIVE'},\n",
              "  {'creationDateTime': datetime.datetime(2019, 6, 10, 0, 0, tzinfo=tzlocal()),\n",
              "   'lastUpdatedDateTime': datetime.datetime(2019, 6, 19, 22, 57, 15, 868000, tzinfo=tzlocal()),\n",
              "   'name': 'aws-personalized-ranking',\n",
              "   'recipeArn': 'arn:aws:personalize:::recipe/aws-personalized-ranking',\n",
              "   'status': 'ACTIVE'},\n",
              "  {'creationDateTime': datetime.datetime(2019, 6, 10, 0, 0, tzinfo=tzlocal()),\n",
              "   'lastUpdatedDateTime': datetime.datetime(2019, 6, 19, 22, 57, 15, 868000, tzinfo=tzlocal()),\n",
              "   'name': 'aws-popularity-count',\n",
              "   'recipeArn': 'arn:aws:personalize:::recipe/aws-popularity-count',\n",
              "   'status': 'ACTIVE'},\n",
              "  {'creationDateTime': datetime.datetime(2019, 6, 10, 0, 0, tzinfo=tzlocal()),\n",
              "   'lastUpdatedDateTime': datetime.datetime(2019, 6, 19, 22, 57, 15, 868000, tzinfo=tzlocal()),\n",
              "   'name': 'aws-sims',\n",
              "   'recipeArn': 'arn:aws:personalize:::recipe/aws-sims',\n",
              "   'status': 'ACTIVE'}]}"
            ]
          },
          "metadata": {
            "tags": []
          },
          "execution_count": 118
        }
      ]
    },
    {
      "cell_type": "code",
      "metadata": {
        "id": "LgJC-KZ1BcFK",
        "colab": {
          "base_uri": "https://localhost:8080/",
          "height": 283
        },
        "outputId": "2db795d7-edbe-4a81-eed5-f42e95d5384a"
      },
      "source": [
        "create_solution_response = personalize.create_solution(\n",
        "    name = \"new-solution\",\n",
        "    datasetGroupArn = \"arn:aws:personalize:ap-southeast-1:129962929409:dataset-group/extra-group\",\n",
        "    recipeArn = \"arn:aws:personalize:::recipe/aws-sims\"\n",
        ")\n",
        "\n",
        "solution_arn = create_solution_response['solutionArn']\n",
        "print(json.dumps(create_solution_response, indent=2))"
      ],
      "execution_count": null,
      "outputs": [
        {
          "output_type": "stream",
          "text": [
            "{\n",
            "  \"solutionArn\": \"arn:aws:personalize:ap-southeast-1:129962929409:solution/new-solution\",\n",
            "  \"ResponseMetadata\": {\n",
            "    \"RequestId\": \"19506ce1-1e02-42b7-8296-95737e218031\",\n",
            "    \"HTTPStatusCode\": 200,\n",
            "    \"HTTPHeaders\": {\n",
            "      \"content-type\": \"application/x-amz-json-1.1\",\n",
            "      \"date\": \"Thu, 26 Dec 2019 11:45:12 GMT\",\n",
            "      \"x-amzn-requestid\": \"19506ce1-1e02-42b7-8296-95737e218031\",\n",
            "      \"content-length\": \"87\",\n",
            "      \"connection\": \"keep-alive\"\n",
            "    },\n",
            "    \"RetryAttempts\": 0\n",
            "  }\n",
            "}\n"
          ],
          "name": "stdout"
        }
      ]
    },
    {
      "cell_type": "code",
      "metadata": {
        "id": "XdzvewfJBrif",
        "colab": {
          "base_uri": "https://localhost:8080/",
          "height": 283
        },
        "outputId": "725eb127-f882-4314-91f6-ddcd3fe82348"
      },
      "source": [
        "create_solution_version_response = personalize.create_solution_version(\n",
        "    solutionArn = \"arn:aws:personalize:ap-southeast-1:129962929409:solution/new-solution\"\n",
        ")\n",
        "\n",
        "solution_version_arn = create_solution_version_response['solutionVersionArn']\n",
        "print(json.dumps(create_solution_version_response, indent=2))"
      ],
      "execution_count": null,
      "outputs": [
        {
          "output_type": "stream",
          "text": [
            "{\n",
            "  \"solutionVersionArn\": \"arn:aws:personalize:ap-southeast-1:129962929409:solution/new-solution/74c61189\",\n",
            "  \"ResponseMetadata\": {\n",
            "    \"RequestId\": \"208aa8cb-197f-4864-a8bd-8275166a2678\",\n",
            "    \"HTTPStatusCode\": 200,\n",
            "    \"HTTPHeaders\": {\n",
            "      \"content-type\": \"application/x-amz-json-1.1\",\n",
            "      \"date\": \"Thu, 26 Dec 2019 11:45:53 GMT\",\n",
            "      \"x-amzn-requestid\": \"208aa8cb-197f-4864-a8bd-8275166a2678\",\n",
            "      \"content-length\": \"103\",\n",
            "      \"connection\": \"keep-alive\"\n",
            "    },\n",
            "    \"RetryAttempts\": 0\n",
            "  }\n",
            "}\n"
          ],
          "name": "stdout"
        }
      ]
    },
    {
      "cell_type": "code",
      "metadata": {
        "id": "vcWCiqOeBzP2",
        "colab": {
          "base_uri": "https://localhost:8080/",
          "height": 638
        },
        "outputId": "08bb0dee-4402-4690-dc4d-064dbbc161a8"
      },
      "source": [
        "max_time = time.time() + 3*60*60 # 3 hours\n",
        "while time.time() < max_time:\n",
        "    describe_solution_version_response = personalize.describe_solution_version(\n",
        "        solutionVersionArn = \"arn:aws:personalize:ap-southeast-1:129962929409:solution/new-solution/74c61189\"\n",
        "    )\n",
        "    status = describe_solution_version_response[\"solutionVersion\"][\"status\"]\n",
        "    print(\"SolutionVersion: {}\".format(status))\n",
        "    \n",
        "    if status == \"ACTIVE\" or status == \"CREATE FAILED\":\n",
        "        break\n",
        "        \n",
        "    time.sleep(60)"
      ],
      "execution_count": null,
      "outputs": [
        {
          "output_type": "stream",
          "text": [
            "SolutionVersion: CREATE IN_PROGRESS\n",
            "SolutionVersion: CREATE IN_PROGRESS\n",
            "SolutionVersion: CREATE IN_PROGRESS\n",
            "SolutionVersion: CREATE IN_PROGRESS\n",
            "SolutionVersion: CREATE IN_PROGRESS\n",
            "SolutionVersion: CREATE IN_PROGRESS\n",
            "SolutionVersion: CREATE IN_PROGRESS\n",
            "SolutionVersion: CREATE IN_PROGRESS\n",
            "SolutionVersion: CREATE IN_PROGRESS\n",
            "SolutionVersion: CREATE IN_PROGRESS\n",
            "SolutionVersion: CREATE IN_PROGRESS\n",
            "SolutionVersion: CREATE IN_PROGRESS\n",
            "SolutionVersion: CREATE IN_PROGRESS\n",
            "SolutionVersion: CREATE IN_PROGRESS\n",
            "SolutionVersion: CREATE IN_PROGRESS\n",
            "SolutionVersion: CREATE IN_PROGRESS\n",
            "SolutionVersion: CREATE IN_PROGRESS\n",
            "SolutionVersion: CREATE IN_PROGRESS\n",
            "SolutionVersion: CREATE IN_PROGRESS\n",
            "SolutionVersion: CREATE IN_PROGRESS\n",
            "SolutionVersion: CREATE IN_PROGRESS\n",
            "SolutionVersion: CREATE IN_PROGRESS\n",
            "SolutionVersion: CREATE IN_PROGRESS\n",
            "SolutionVersion: CREATE IN_PROGRESS\n",
            "SolutionVersion: CREATE IN_PROGRESS\n",
            "SolutionVersion: CREATE IN_PROGRESS\n",
            "SolutionVersion: CREATE IN_PROGRESS\n",
            "SolutionVersion: CREATE IN_PROGRESS\n",
            "SolutionVersion: CREATE IN_PROGRESS\n",
            "SolutionVersion: CREATE IN_PROGRESS\n",
            "SolutionVersion: CREATE IN_PROGRESS\n",
            "SolutionVersion: CREATE IN_PROGRESS\n",
            "SolutionVersion: CREATE IN_PROGRESS\n",
            "SolutionVersion: CREATE IN_PROGRESS\n",
            "SolutionVersion: ACTIVE\n"
          ],
          "name": "stdout"
        }
      ]
    },
    {
      "cell_type": "code",
      "metadata": {
        "id": "As7-uMFQB_Gf",
        "colab": {
          "base_uri": "https://localhost:8080/",
          "height": 461
        },
        "outputId": "6cbcc4ff-32bc-45b4-a8e6-8a829d73a72b"
      },
      "source": [
        "get_solution_metrics_response = personalize.get_solution_metrics(\n",
        "    solutionVersionArn = \"arn:aws:personalize:ap-southeast-1:129962929409:solution/new-solution/74c61189\"\n",
        ")\n",
        "\n",
        "print(json.dumps(get_solution_metrics_response, indent=2))"
      ],
      "execution_count": null,
      "outputs": [
        {
          "output_type": "stream",
          "text": [
            "{\n",
            "  \"solutionVersionArn\": \"arn:aws:personalize:ap-southeast-1:129962929409:solution/new-solution/74c61189\",\n",
            "  \"metrics\": {\n",
            "    \"coverage\": 0.4875,\n",
            "    \"mean_reciprocal_rank_at_25\": 0.113,\n",
            "    \"normalized_discounted_cumulative_gain_at_10\": 0.1178,\n",
            "    \"normalized_discounted_cumulative_gain_at_25\": 0.1885,\n",
            "    \"normalized_discounted_cumulative_gain_at_5\": 0.0779,\n",
            "    \"precision_at_10\": 0.0448,\n",
            "    \"precision_at_25\": 0.0382,\n",
            "    \"precision_at_5\": 0.0414\n",
            "  },\n",
            "  \"ResponseMetadata\": {\n",
            "    \"RequestId\": \"3cabd398-ca7b-402c-b40c-2c32e78c4c2f\",\n",
            "    \"HTTPStatusCode\": 200,\n",
            "    \"HTTPHeaders\": {\n",
            "      \"content-type\": \"application/x-amz-json-1.1\",\n",
            "      \"date\": \"Thu, 26 Dec 2019 12:40:48 GMT\",\n",
            "      \"x-amzn-requestid\": \"3cabd398-ca7b-402c-b40c-2c32e78c4c2f\",\n",
            "      \"content-length\": \"400\",\n",
            "      \"connection\": \"keep-alive\"\n",
            "    },\n",
            "    \"RetryAttempts\": 0\n",
            "  }\n",
            "}\n"
          ],
          "name": "stdout"
        }
      ]
    },
    {
      "cell_type": "code",
      "metadata": {
        "id": "zMgePrPiCCvj",
        "colab": {
          "base_uri": "https://localhost:8080/",
          "height": 283
        },
        "outputId": "e7949e21-9a18-40a6-e161-8b35ff30b6ee"
      },
      "source": [
        "create_campaign_response = personalize.create_campaign(\n",
        "    name = \"new-campaign\",\n",
        "    solutionVersionArn = \"arn:aws:personalize:ap-southeast-1:129962929409:solution/new-solution/74c61189\",\n",
        "    minProvisionedTPS = 1\n",
        ")\n",
        "\n",
        "campaign_arn = create_campaign_response['campaignArn']\n",
        "print(json.dumps(create_campaign_response, indent=2))"
      ],
      "execution_count": null,
      "outputs": [
        {
          "output_type": "stream",
          "text": [
            "{\n",
            "  \"campaignArn\": \"arn:aws:personalize:ap-southeast-1:129962929409:campaign/new-campaign\",\n",
            "  \"ResponseMetadata\": {\n",
            "    \"RequestId\": \"95a29a79-00f5-4dbc-8aab-b923e9cadb74\",\n",
            "    \"HTTPStatusCode\": 200,\n",
            "    \"HTTPHeaders\": {\n",
            "      \"content-type\": \"application/x-amz-json-1.1\",\n",
            "      \"date\": \"Thu, 26 Dec 2019 12:41:08 GMT\",\n",
            "      \"x-amzn-requestid\": \"95a29a79-00f5-4dbc-8aab-b923e9cadb74\",\n",
            "      \"content-length\": \"87\",\n",
            "      \"connection\": \"keep-alive\"\n",
            "    },\n",
            "    \"RetryAttempts\": 0\n",
            "  }\n",
            "}\n"
          ],
          "name": "stdout"
        }
      ]
    },
    {
      "cell_type": "code",
      "metadata": {
        "id": "7HJdSNLTCF6g",
        "colab": {
          "base_uri": "https://localhost:8080/",
          "height": 194
        },
        "outputId": "61efd76b-f0c3-4b64-a114-cdafa433eeca"
      },
      "source": [
        "max_time = time.time() + 3*60*60 # 3 hours\n",
        "while time.time() < max_time:\n",
        "    describe_campaign_response = personalize.describe_campaign(\n",
        "        campaignArn = \"arn:aws:personalize:ap-southeast-1:129962929409:campaign/new-campaign\"\n",
        "    )\n",
        "    status = describe_campaign_response[\"campaign\"][\"status\"]\n",
        "    print(\"Campaign: {}\".format(status))\n",
        "    \n",
        "    if status == \"ACTIVE\" or status == \"CREATE FAILED\":\n",
        "        break\n",
        "        \n",
        "    time.sleep(60)"
      ],
      "execution_count": null,
      "outputs": [
        {
          "output_type": "stream",
          "text": [
            "Campaign: CREATE PENDING\n",
            "Campaign: CREATE IN_PROGRESS\n",
            "Campaign: CREATE IN_PROGRESS\n",
            "Campaign: CREATE IN_PROGRESS\n",
            "Campaign: CREATE IN_PROGRESS\n",
            "Campaign: CREATE IN_PROGRESS\n",
            "Campaign: CREATE IN_PROGRESS\n",
            "Campaign: CREATE IN_PROGRESS\n",
            "Campaign: CREATE IN_PROGRESS\n",
            "Campaign: ACTIVE\n"
          ],
          "name": "stdout"
        }
      ]
    },
    {
      "cell_type": "code",
      "metadata": {
        "id": "UpmtZpfECJFh",
        "colab": {
          "base_uri": "https://localhost:8080/",
          "height": 52
        },
        "outputId": "e48f74f6-984b-473a-9465-f2edbbdbad9e"
      },
      "source": [
        "items = pd.read_csv('/content/books.csv')\n",
        "items.columns = ['ITEM_ID', 'TITLE']\n",
        "\n",
        "user_id, item_id, _ = data.sample().values[0]\n",
        "item_title = items.loc[items['ITEM_ID'] == item_id].values[0][-1]\n",
        "print(\"USER: {}\".format(user_id))\n",
        "print(\"ITEM: {}\".format(item_title))"
      ],
      "execution_count": null,
      "outputs": [
        {
          "output_type": "stream",
          "text": [
            "USER: 588\n",
            "ITEM: Gap Creek\n"
          ],
          "name": "stdout"
        }
      ]
    },
    {
      "cell_type": "code",
      "metadata": {
        "id": "3IblfjiDCMAY",
        "colab": {
          "base_uri": "https://localhost:8080/",
          "height": 496
        },
        "outputId": "5c4bdd18-99c4-498e-9e47-1aff316efc29"
      },
      "source": [
        "get_recommendations_response = personalize_runtime.get_recommendations(\n",
        "    campaignArn = campaign_arn,\n",
        "    userId = str(89),\n",
        "    itemId = str(item_id)\n",
        ")\n",
        "\n",
        "item_list = get_recommendations_response['itemList']\n",
        "title_list = [items.loc[items['ITEM_ID'] == np.int(item['itemId'])].values[0][-1] for item in item_list]\n",
        "\n",
        "print(\"Recommendations: {}\".format(json.dumps(title_list, indent=1)))"
      ],
      "execution_count": null,
      "outputs": [
        {
          "output_type": "stream",
          "text": [
            "Recommendations: [\n",
            " \"Chapterhouse: Dune (Dune Chronicles #6)\",\n",
            " \"eBay Business All-in-One Desk Reference for Dummies\",\n",
            " \"The Long Goodbye (Philip Marlowe  #6)\",\n",
            " \"The Seven Habits of Highly Effective People\",\n",
            " \"Acharnians\",\n",
            " \"Questions and Answers on Death and Dying: A Companion Volume to On Death and Dying\",\n",
            " \"The Power of One (The Power of One  #1)\",\n",
            " \"The Power of One: One Person  One Rule  One Month\",\n",
            " \"Daily Reflections For Highly Effective People: Living the 7 Habits of Highly Successful People Every Day\",\n",
            " \"Truman\",\n",
            " \"The Histories\",\n",
            " \"Liar's Poker\",\n",
            " \"The Changeling\",\n",
            " \"Vida de Pi\",\n",
            " \"The Tragedy of Pudd'nhead Wilson/Those Extraordinary Twins\",\n",
            " \"eBay for Dummies\",\n",
            " \"The Last Dance: Encountering Death and Dying\",\n",
            " \"The Shadow of the Wind (The Cemetery of Forgotten Books  #1)\",\n",
            " \"Dune Messiah (Dune Chronicles #2)\",\n",
            " \"Traders  Guns & Money: Knowns and Unknowns in the Dazzling World of Derivatives\",\n",
            " \"We Were Not Like Other People\",\n",
            " \"The Last Assassin (John Rain  #5)\",\n",
            " \"Money to Burn\",\n",
            " \"There's Always Enough: The Miraculous Move of God in Mozambique\",\n",
            " \"Drina Dances in Exile\"\n",
            "]\n"
          ],
          "name": "stdout"
        }
      ]
    }
  ]
}